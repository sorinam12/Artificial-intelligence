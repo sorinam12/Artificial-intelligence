{
 "cells": [
  {
   "cell_type": "code",
   "execution_count": 28,
   "id": "f86181bc",
   "metadata": {},
   "outputs": [
    {
     "name": "stdout",
     "output_type": "stream",
     "text": [
      "Runda  1\n",
      "Net1=  1\n",
      "W2 dupa corectare:  [-0.004  0.998  0.002]\n",
      "Net2=  -1.0\n",
      "W3 dupa corectare: [-0.004  0.996  0.   ]\n",
      "Runda  2\n",
      "Net1=  0.988\n",
      "W2 dupa corectare:  [-0.008  0.994  0.002]\n",
      "Net2=  -0.996\n",
      "W3 dupa corectare: [-0.008  0.992  0.   ]\n",
      "Runda  3\n",
      "Net1=  0.976\n",
      "W2 dupa corectare:  [-0.012  0.99   0.002]\n",
      "Net2=  -0.992\n",
      "W3 dupa corectare: [-0.012  0.988  0.   ]\n",
      "Runda  4\n",
      "Net1=  0.964\n",
      "W2 dupa corectare:  [-0.016  0.986  0.002]\n",
      "Net2=  -0.988\n",
      "W3 dupa corectare: [-0.016  0.984  0.   ]\n",
      "Runda  5\n",
      "Net1=  0.952\n",
      "W2 dupa corectare:  [-0.02   0.982  0.002]\n",
      "Net2=  -0.984\n",
      "W3 dupa corectare: [-0.02  0.98  0.  ]\n"
     ]
    }
   ],
   "source": [
    "import math\n",
    "import numpy as np\n",
    "\n",
    "w1=[0,1,0]\n",
    "w2=[]\n",
    "w3=[]\n",
    "x1=[2,1,-1]\n",
    "x2=[0,-1,-1]\n",
    "d1=-1\n",
    "d2=1\n",
    "nr_repetare=5\n",
    "c=0.001\n",
    "\n",
    "for i in range(nr_repetare):\n",
    "    print(\"Runda \", i+1)\n",
    "    net1=np.dot(x1,w1)\n",
    "    print(\"Net1= \", net1)\n",
    "    semn1=np.sign(net1)\n",
    "    \n",
    "    if (semn1!= d1):\n",
    "        w2= w1+np.multiply(c*(d1+d1),x1)\n",
    "        print(\"W2 dupa corectare: \", w2)\n",
    "    else: \n",
    "        print(\"w2 nemodificat: \", w2)\n",
    "\n",
    "    net2=np.dot(x2,w2)\n",
    "    print(\"Net2= \", net2)\n",
    "    semn2=np.sign(net2)\n",
    "    if (semn2!= d2):\n",
    "        w3= w2+np.multiply(c*(d2+d2),x2)\n",
    "        print(\"W3 dupa corectare:\", w3)\n",
    "    else:\n",
    "        print(\"w3 nemodificat: \", w3)\n",
    "    w1=w3\n",
    "    \n",
    "    "
   ]
  },
  {
   "cell_type": "code",
   "execution_count": null,
   "id": "77afda1e",
   "metadata": {},
   "outputs": [],
   "source": []
  }
 ],
 "metadata": {
  "kernelspec": {
   "display_name": "Python 3 (ipykernel)",
   "language": "python",
   "name": "python3"
  },
  "language_info": {
   "codemirror_mode": {
    "name": "ipython",
    "version": 3
   },
   "file_extension": ".py",
   "mimetype": "text/x-python",
   "name": "python",
   "nbconvert_exporter": "python",
   "pygments_lexer": "ipython3",
   "version": "3.9.7"
  }
 },
 "nbformat": 4,
 "nbformat_minor": 5
}
