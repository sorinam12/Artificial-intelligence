{
 "cells": [
  {
   "cell_type": "code",
   "execution_count": 74,
   "id": "f36f306f",
   "metadata": {},
   "outputs": [
    {
     "name": "stdout",
     "output_type": "stream",
     "text": [
      "Lungimea vectorului X:  3.0\n",
      "Lungimea vectorului Y:  4.242640687119285\n",
      "Produsul scalar dintre X si Y este egal cu:  9\n",
      "Cosinusul unghiului dintre X si Y:  0.7071067811865476\n"
     ]
    }
   ],
   "source": [
    "import numpy as np \n",
    "import math \n",
    "x = np.array([2, 1, 2])\n",
    "y = np.array([1, -1, 4])\n",
    "\n",
    "#lungime_x =print(x.shape) \n",
    "#lungime_y =print(y.shape) \n",
    "lungime_x = math.sqrt(x[0]*x[0]+x[1]*x[1]+x[2]*x[2]) \n",
    "lungime_y = math.sqrt(y[0]*y[0]+y[1]*y[1]+y[2]*y[2])\n",
    "print(\"Lungimea vectorului X: \", lungime_x)\n",
    "print(\"Lungimea vectorului Y: \", lungime_y)\n",
    "\n",
    "#produs scalar \n",
    "\n",
    "produs_scalar = x.dot(y)\n",
    "print(\"Produsul scalar dintre X si Y este egal cu: \", produs_scalar)\n",
    "\n",
    "#cosinus \n",
    "\n",
    "cos_unghi = produs_scalar/(lungime_x*lungime_y)\n",
    "\n",
    "print(\"Cosinusul unghiului dintre X si Y: \", cos_unghi)"
   ]
  },
  {
   "cell_type": "code",
   "execution_count": 27,
   "id": "56fdc112",
   "metadata": {},
   "outputs": [
    {
     "name": "stdout",
     "output_type": "stream",
     "text": [
      "Punctul P 0  este din clasa 2.\n",
      "Punctul P 1  este din clasa 2.\n",
      "Punctul P 2  este din clasa 2.\n",
      "Punctul P 3  este din clasa 1.\n",
      "Punctul P 4  este din clasa 2.\n",
      "Punctul P 5  este din clasa 1.\n",
      "Punctul P 6  este din clasa 1.\n",
      "Punctul P 7  este din clasa 1.\n"
     ]
    }
   ],
   "source": [
    "pct = np.array([[-1, -1, -1], [-1, -1, 1], [-1, 1, -1], [-1, 1, 1], [1, -1, -1], [1, -1, 1], [1, 1, -1], [1, 1, 1]])\n",
    "sgn_pct = np.array([0, 0, 0, 0, 0, 0, 0, 0])\n",
    "\n",
    "for i in range(0,8):\n",
    "    sgn_pct[i]=np.sign(pct[i][0]+pct[i][1]+pct[i][2])\n",
    "\n",
    "for i in range(0,8):\n",
    "    if sgn_pct[i] == -1:\n",
    "        print(\"Punctul P\",i , \" este din clasa 2.\")\n",
    "    else:\n",
    "        print(\"Punctul P\",i , \" este din clasa 1.\")"
   ]
  },
  {
   "cell_type": "code",
   "execution_count": 73,
   "id": "2c36da85",
   "metadata": {},
   "outputs": [
    {
     "name": "stdout",
     "output_type": "stream",
     "text": [
      "[ -1 , -1 , 1 ] este punct stabil\n",
      "\n",
      "[ 1 , 1 , -1 ] este punct stabil\n",
      "\n"
     ]
    }
   ],
   "source": [
    "#exercitiu3\n",
    "#o1=1\n",
    "#o2=1\n",
    "#o3=1\n",
    "import numpy as np \n",
    "pct = np.array([[-1, -1, -1], [-1, -1, 1], [-1, 1, -1], [-1, 1, 1], [1, -1, -1], [1, -1, 1], [1, 1, -1], [1, 1, 1]])\n",
    "def stabil(o1,o2,o3):\n",
    "    \n",
    "    while True:\n",
    "        val3=np.sign(-o1-o2)\n",
    "        val2=np.sign(o1-o3)\n",
    "        val1=np.sign(o2-o3)\n",
    "        if val1==o1 and val2==o2 and val3==o3:\n",
    "            break\n",
    "        else:\n",
    "            o1=val1\n",
    "            o2=val2\n",
    "            o3=val3\n",
    "    return(o1,o2,o3)\n",
    "   # print(\"[\", o1,\",\", o2,\",\", o3, \"]\",\"este punct stabil\\n\") \n",
    "\n",
    "w, h = 3, 8;\n",
    "puncte_stabile = [[0 for x in range(w)] for y in range(h)] \n",
    "\n",
    "a=1\n",
    "for i in range(0,8):\n",
    "    o1=pct[i][0]\n",
    "    o2=pct[i][1]\n",
    "    o3=pct[i][2]\n",
    "    pct_stabil = stabil(o1,o2,o3)\n",
    "    #print(pct_stabil)\n",
    "    \n",
    "    if i==0:\n",
    "        puncte_stabile[0][0]=pct_stabil[0]\n",
    "        puncte_stabile[0][1]=pct_stabil[1]\n",
    "        puncte_stabile[0][2]=pct_stabil[2]\n",
    "        #print(\"[\", puncte_stabile[0][0],\",\", puncte_stabile[0][1],\",\", puncte_stabile[0][2], \"]\",\"este punct stabil\\n\")\n",
    "        #print(puncte_stabile)\n",
    "        \n",
    "        ok=0\n",
    "    \n",
    "    for j in range(0,a):\n",
    "        if pct_stabil[0] !=puncte_stabile[j][0] and puncte_stabile[j][1]!=pct_stabil[1] and puncte_stabile[j][2]!=pct_stabil[2]:\n",
    "            \n",
    "            #print(\"[\", puncte_stabile[j][0],\",\", puncte_stabile[j][1],\",\", puncte_stabile[j][2], \"]\",\"este punct stabil..\\n\")\n",
    "            puncte_stabile[a][0]=pct_stabil[0]\n",
    "            puncte_stabile[a][1]=pct_stabil[1]\n",
    "            puncte_stabile[a][2]=pct_stabil[2]\n",
    "            \n",
    "            \n",
    "            #print(puncte_stabile)\n",
    "            \n",
    "        else:\n",
    "            ok=1\n",
    "            #print(\"este egal\")\n",
    "    \n",
    "        \n",
    "\n",
    "for j in range(0,a+1):\n",
    "    print(\"[\", puncte_stabile[j][0],\",\", puncte_stabile[j][1],\",\", puncte_stabile[j][2], \"]\",\"este punct stabil\\n\") \n",
    "        \n",
    "        \n",
    "        \n",
    "\n",
    "    #print(\"Punctul\", i,\"[\", o1,\",\", o2,\",\", o3,\"] este punct stabil.\")\n",
    "\n",
    "    \n",
    "\n",
    "    \n",
    "    \n",
    "    \n",
    "    \n",
    "    \n",
    "    \n"
   ]
  },
  {
   "cell_type": "code",
   "execution_count": null,
   "id": "cbc0ac61",
   "metadata": {},
   "outputs": [],
   "source": []
  },
  {
   "cell_type": "code",
   "execution_count": null,
   "id": "31323a7a",
   "metadata": {},
   "outputs": [],
   "source": []
  }
 ],
 "metadata": {
  "kernelspec": {
   "display_name": "Python 3 (ipykernel)",
   "language": "python",
   "name": "python3"
  },
  "language_info": {
   "codemirror_mode": {
    "name": "ipython",
    "version": 3
   },
   "file_extension": ".py",
   "mimetype": "text/x-python",
   "name": "python",
   "nbconvert_exporter": "python",
   "pygments_lexer": "ipython3",
   "version": "3.9.7"
  }
 },
 "nbformat": 4,
 "nbformat_minor": 5
}
