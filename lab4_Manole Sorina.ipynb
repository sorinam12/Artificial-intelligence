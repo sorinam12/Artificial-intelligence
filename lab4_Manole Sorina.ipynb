{
 "cells": [
  {
   "cell_type": "code",
   "execution_count": 20,
   "id": "13db5876",
   "metadata": {},
   "outputs": [
    {
     "name": "stdout",
     "output_type": "stream",
     "text": [
      "Exercitiul 1(binara si bipolara):\n",
      "\n",
      "Net1 este egal cu:  3.0 \n",
      "\n",
      "W2  [ 2.  -3.   1.5  0.5] \n",
      "\n",
      "Net2 este egal cu:  -0.25 \n",
      "\n",
      "W3  [ 1.  -2.5  3.5  2. ] \n",
      "\n",
      "Net1 este egal cu:  -3.0 \n",
      "\n",
      "W4  [ 1.  -3.5  4.5  0.5] \n",
      "\n"
     ]
    }
   ],
   "source": [
    "import numpy as np\n",
    "\n",
    "w1=[1,-1,0,0.5]\n",
    "x1=[1,-2,1.5,0]\n",
    "x2=[1,-0.5,-2,-1.5]\n",
    "x3=[0,1,-1,1.5]\n",
    "w2=[]\n",
    "w3=[]\n",
    "w4=[]\n",
    "net1=np.dot(x1,w1)\n",
    "w2=w1+np.multiply(np.sign(net1) ,x1)\n",
    "net2=np.dot(x2,w2)\n",
    "w3=w2+np.multiply(np.sign(net2) ,x2)\n",
    "net3=np.dot(x3,w3)\n",
    "w4=w3+np.multiply(np.sign(net3) ,x3)\n",
    "\n",
    "print(\"Exercitiul 1(binara si bipolara):\\n\")\n",
    "print(\"Net1 este egal cu: \", net1, \"\\n\")\n",
    "print(\"W2 \", w2, \"\\n\")\n",
    "\n",
    "print(\"Net2 este egal cu: \", net2, \"\\n\")\n",
    "print(\"W3 \", w3, \"\\n\")\n",
    "\n",
    "print(\"Net1 este egal cu: \", net3, \"\\n\")\n",
    "print(\"W4 \", w4, \"\\n\")\n",
    "\n"
   ]
  },
  {
   "cell_type": "code",
   "execution_count": 21,
   "id": "d9a80ced",
   "metadata": {
    "scrolled": true
   },
   "outputs": [
    {
     "name": "stdout",
     "output_type": "stream",
     "text": [
      "Exercitiul 1(cont si bipolara):\n",
      "\n",
      "Net1 este egal cu:  3.0 \n",
      " f(net1) 0.9051482536448667\n",
      "W2  [ 1.90514825 -2.81029651  1.35772238  0.5       ] \n",
      "\n",
      "Net2 este egal cu:  -0.15514825364486695 \n",
      " f(net2) -0.07741889336533991\n",
      "W3  [ 2.81029651 -3.26287063 -0.45257413 -0.85772238] \n",
      "\n",
      "Net1 este egal cu:  -4.096880077990683 \n",
      " f(net1) 0.9051482536448667\n",
      "W4  [ 2.81029651 -2.35772238 -1.35772238  0.5       ] \n",
      "\n"
     ]
    }
   ],
   "source": [
    "import math\n",
    "import numpy as np\n",
    "\n",
    "def f(net):\n",
    "    f = 2/ (1 + math.exp(-net)) - 1\n",
    "    return f\n",
    "\n",
    "w1=[1,-1,0,0.5]\n",
    "x1=[1,-2,1.5,0]\n",
    "x2=[1,-0.5,-2,-1.5]\n",
    "x3=[0,1,-1,1.5]\n",
    "w2=[]\n",
    "w3=[]\n",
    "w4=[]\n",
    "net1=np.dot(x1,w1)\n",
    "w2=w1+np.multiply(f(net1) ,x1)\n",
    "net2=np.dot(x2,w2)\n",
    "w3=w2+np.multiply(f(net1) ,x2)\n",
    "net3=np.dot(x3,w3)\n",
    "w4=w3+np.multiply(f(net1) ,x3)\n",
    "print(\"Exercitiul 1(cont si bipolara):\\n\")\n",
    "print(\"Net1 este egal cu: \", net1, \"\\n\", \"f(net1)\",f(net1) )\n",
    "print(\"W2 \", w2, \"\\n\")\n",
    "\n",
    "print(\"Net2 este egal cu: \", net2, \"\\n\",\"f(net2)\",f(net2) )\n",
    "print(\"W3 \", w3, \"\\n\")\n",
    "\n",
    "print(\"Net1 este egal cu: \", net3, \"\\n\", \"f(net1)\",f(net1) )\n",
    "print(\"W4 \", w4, \"\\n\")\n",
    "\n",
    "\n",
    "\n",
    "\n",
    "\n"
   ]
  },
  {
   "cell_type": "code",
   "execution_count": 22,
   "id": "606e5386",
   "metadata": {},
   "outputs": [
    {
     "name": "stdout",
     "output_type": "stream",
     "text": [
      "Exercitiul 1(binara si bipolara):\n",
      "\n",
      "Net1 este egal cu:  3 \n",
      "\n",
      "W2  [ 2 -3] \n",
      "\n",
      "Net2 este egal cu:  -3 \n",
      "\n",
      "W3  [ 2 -4] \n",
      "\n",
      "Net3 este egal cu:  -8 \n",
      "\n",
      "W4  [ 0 -7] \n",
      "\n",
      "Net4 este egal cu:  7 \n",
      "\n",
      "W5  [ 1 -8] \n",
      "\n"
     ]
    }
   ],
   "source": [
    "import numpy as np\n",
    "\n",
    "w1=[1, -1]\n",
    "x1=[1, -2]\n",
    "x2=[0, 1]\n",
    "x3=[2, 3]\n",
    "x4=[1, -1]\n",
    "w2=[]\n",
    "w3=[]\n",
    "w4=[]\n",
    "w5=[]\n",
    "net1=np.dot(x1,w1)\n",
    "w2=w1+np.multiply(np.sign(net1) ,x1)\n",
    "net2=np.dot(x2,w2)\n",
    "w3=w2+np.multiply(np.sign(net2) ,x2)\n",
    "net3=np.dot(x3,w3)\n",
    "w4=w3+np.multiply(np.sign(net3) ,x3)\n",
    "net4=np.dot(x4,w4)\n",
    "w5=w4+np.multiply(np.sign(net4) ,x4)\n",
    "\n",
    "print(\"Exercitiul 2(binara si bipolara):\\n\")\n",
    "print(\"Net1 este egal cu: \", net1, \"\\n\")\n",
    "print(\"W2 \", w2, \"\\n\")\n",
    "\n",
    "print(\"Net2 este egal cu: \", net2, \"\\n\")\n",
    "print(\"W3 \", w3, \"\\n\")\n",
    "\n",
    "print(\"Net3 este egal cu: \", net3, \"\\n\")\n",
    "print(\"W4 \", w4, \"\\n\")\n",
    "\n",
    "print(\"Net4 este egal cu: \", net4, \"\\n\")\n",
    "print(\"W5 \", w5, \"\\n\")\n",
    "\n"
   ]
  },
  {
   "cell_type": "code",
   "execution_count": null,
   "id": "195d13c4",
   "metadata": {},
   "outputs": [],
   "source": []
  }
 ],
 "metadata": {
  "kernelspec": {
   "display_name": "Python 3 (ipykernel)",
   "language": "python",
   "name": "python3"
  },
  "language_info": {
   "codemirror_mode": {
    "name": "ipython",
    "version": 3
   },
   "file_extension": ".py",
   "mimetype": "text/x-python",
   "name": "python",
   "nbconvert_exporter": "python",
   "pygments_lexer": "ipython3",
   "version": "3.9.7"
  }
 },
 "nbformat": 4,
 "nbformat_minor": 5
}
